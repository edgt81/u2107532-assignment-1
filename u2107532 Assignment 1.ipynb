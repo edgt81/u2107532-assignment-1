{
 "cells": [
  {
   "cell_type": "code",
   "execution_count": 1,
   "id": "0901111a",
   "metadata": {},
   "outputs": [
    {
     "name": "stdout",
     "output_type": "stream",
     "text": [
      "[2, 2, 4, 6, 0, 6, 6, 2, 8, 0, 8, 8, 6, 4, 0, 4, 4, 8, 2, 0, 2]\n",
      "20\n",
      "[1, 5, 6, 1, 7, 8, 5, 3, 8, 1, 9, 0, 9, 9, 8, 7, 5, 2, 7, 9, 6, 5, 1, 6, 7, 3, 0, 3, 3, 6, 9, 5, 4, 9, 3, 2, 5, 7, 2, 9, 1, 0, 1, 1, 2, 3, 5, 8, 3, 1, 4, 5, 9, 4, 3, 7, 0, 7, 7, 4, 1]\n",
      "60\n",
      "[0, 0, 0]\n",
      "1\n",
      "[5, 5, 0, 5]\n",
      "3\n",
      "[2, 6, 8, 4, 2]\n",
      "4\n",
      "[7, 1, 8, 9, 7, 6, 3, 9, 2, 1, 3, 4, 7]\n",
      "12\n"
     ]
    }
   ],
   "source": [
    "import numpy as np\n",
    "\n",
    "def bracelet(x,y):\n",
    "    m=x+y\n",
    "    m=str(x+y)\n",
    "    m1=int(m[-1]) #This is to separate the last digit of the number\n",
    "    list1=[x,y,m1]\n",
    "    for i in range (100):#There are only 100 possible numbers so we can operate in this range\n",
    "        if list1[-1]==x and int(str(list1[-2]+list1[-1])[-1])==y:\n",
    "            list1=list1 #This is to stop the bracelet when it begins to loop\n",
    "        else:\n",
    "            z=list1[i+1]+list1[i+2]\n",
    "            z=str(z)\n",
    "            z2=int(z[-1])\n",
    "            list1.append(z2) #This adds the new digits to the loop\n",
    "    return list1\n",
    "print(bracelet(2,2)) #This generates the bracelet\n",
    "print(len(bracelet(2,2))-1) #Counting the number of element count the number of possible starting numbers. 1 is subtracted as each start requires 2 numbers so the number of starts to the loop is one less than the number of elements.\n",
    "print(bracelet(1,5))\n",
    "print(len(bracelet(1,5))-1)\n",
    "print(bracelet(0,0))\n",
    "print(len(bracelet(0,0))-2)\n",
    "print(bracelet(5,5))\n",
    "print(len(bracelet(5,5))-1)\n",
    "print(bracelet(2,6))\n",
    "print(len(bracelet(2,6))-1)\n",
    "print(bracelet(7,1))\n",
    "print(len(bracelet(7,1))-1)\n",
    "\n"
   ]
  },
  {
   "cell_type": "code",
   "execution_count": 2,
   "id": "91fce203",
   "metadata": {},
   "outputs": [
    {
     "name": "stdout",
     "output_type": "stream",
     "text": [
      "[-2, -2, -4, -6, 0, -6, -6, -2, -8, 0, -8, -8, -6, -4, 0, -4, -4, -8, -2, 0, -2, -2]\n",
      "21\n",
      "[-1, -5, -6, -1, -7, -8, -5, -3, -8, -1, -9, 0, -9, -9, -8, -7, -5, -2, -7, -9, -6, -5, -1, -6, -7, -3, 0, -3, -3, -6, -9, -5, -4, -9, -3, -2, -5, -7, -2, -9, -1, 0, -1, -1, -2, -3, -5, -8, -3, -1, -4, -5, -9, -4, -3, -7, 0, -7, -7, -4, -1, -5]\n",
      "61\n",
      "[0, 0, 0]\n",
      "1\n",
      "[-5, -5, 0, -5, -5]\n",
      "4\n",
      "[-2, -6, -8, -4, -2, -6]\n",
      "5\n",
      "[-7, -1, -8, -9, -7, -6, -3, -9, -2, -1, -3, -4, -7, -1]\n",
      "13\n"
     ]
    }
   ],
   "source": [
    "def bracelet(x,y):\n",
    "    m=x+y\n",
    "    m2=str(x+y)\n",
    "    m1=int(m2[-1])\n",
    "    if m<0:\n",
    "        list1=[x,y,-1*m1] #The previous code only worked for positive number. It was therefore nessessary to amend it so negative numbers were included.\n",
    "    else:\n",
    "        list1=[x,y,m1]\n",
    "    for i in range (100):\n",
    "        if list1[-2]==x and list1[-1]==y:\n",
    "            list1=list1\n",
    "        else:\n",
    "            z=list1[i+1]+list1[i+2]\n",
    "            z2=int(str(z)[-1])\n",
    "            if z<0:\n",
    "                list1.append(-1*z2)\n",
    "            else:\n",
    "                list1.append(z2)\n",
    "    return list1\n",
    "print(bracelet(-2,-2))\n",
    "print(len(bracelet(-2,-2))-1)\n",
    "print(bracelet(-1,-5))\n",
    "print(len(bracelet(-1,-5))-1)\n",
    "print(bracelet(0,0))\n",
    "print(len(bracelet(0,0))-2)\n",
    "print(bracelet(-5,-5))\n",
    "print(len(bracelet(-5,-5))-1)\n",
    "print(bracelet(-2,-6))\n",
    "print(len(bracelet(-2,-6))-1)\n",
    "print(bracelet(-7,-1))\n",
    "print(len(bracelet(-7,-1))-1)"
   ]
  },
  {
   "cell_type": "code",
   "execution_count": 3,
   "id": "be1040d7",
   "metadata": {},
   "outputs": [
    {
     "name": "stdout",
     "output_type": "stream",
     "text": [
      "4\n",
      "5\n",
      "3\n",
      "3\n",
      "3\n",
      "5\n",
      "3\n",
      "3\n",
      "4\n",
      "4\n",
      "5\n",
      "3\n",
      "4\n",
      "5\n",
      "3\n",
      "3\n",
      "4\n"
     ]
    }
   ],
   "source": [
    "def bracelet(x,y):\n",
    "    m=x+y\n",
    "    m2=str(x+y)\n",
    "    m1=int(m2[-1])\n",
    "    if m<0:\n",
    "        list1=[x,y,-1*m1]\n",
    "    else:\n",
    "        list1=[x,y,m1]\n",
    "    for i in range (100):\n",
    "        if list1[-2]<0 and list1[-1]<0:\n",
    "            list1=list1\n",
    "        elif list1[-2]>0 and list1[-1]>0: #We are trying to determind if there are consecutive elements of the same sign. Stopping the list when this occurs alerts us to if and when this occurs.\n",
    "            list1=list1\n",
    "        else:\n",
    "            z=list1[i+1]+list1[i+2]\n",
    "            z2=int(str(z)[-1])\n",
    "            if z<0:\n",
    "                list1.append(-1*z2)\n",
    "            else:\n",
    "                list1.append(z2)\n",
    "    return list1\n",
    "print(len(bracelet(-3,1)))  #This shows how many element it takes before it becomes there are consecutive elements of the same sign and so becomes a known loop \n",
    "print(len(bracelet(-9,8)))\n",
    "print(len(bracelet(-2,9)))\n",
    "print(len(bracelet(-1,7)))\n",
    "print(len(bracelet(-3,6)))\n",
    "print(len(bracelet(-4,3)))\n",
    "print(len(bracelet(-7,9)))     \n",
    "print(len(bracelet(-1,2)))\n",
    "print(len(bracelet(-8,1)))\n",
    "print(len(bracelet(-9,3)))\n",
    "print(len(bracelet(-7,5)))\n",
    "print(len(bracelet(-6,7)))     \n",
    "print(len(bracelet(-3,1)))\n",
    "\n",
    "print(len(bracelet(-8,6)))\n",
    "print(len(bracelet(-4,8)))\n",
    "print(len(bracelet(-2,4)))     \n",
    "print(len(bracelet(-6,2)))\n",
    "      \n",
    "      "
   ]
  },
  {
   "cell_type": "code",
   "execution_count": null,
   "id": "14eabbab",
   "metadata": {},
   "outputs": [],
   "source": []
  }
 ],
 "metadata": {
  "kernelspec": {
   "display_name": "Python 3 (ipykernel)",
   "language": "python",
   "name": "python3"
  },
  "language_info": {
   "codemirror_mode": {
    "name": "ipython",
    "version": 3
   },
   "file_extension": ".py",
   "mimetype": "text/x-python",
   "name": "python",
   "nbconvert_exporter": "python",
   "pygments_lexer": "ipython3",
   "version": "3.9.7"
  }
 },
 "nbformat": 4,
 "nbformat_minor": 5
}
